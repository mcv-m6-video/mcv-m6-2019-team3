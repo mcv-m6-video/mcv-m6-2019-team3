{
 "cells": [
  {
   "cell_type": "code",
   "execution_count": null,
   "metadata": {},
   "outputs": [],
   "source": [
    "import os\n",
    "import sys\n",
    "sys.path.append(\"..\") # Adds higher directory to python modules path.\n",
    "import glob\n",
    "import cv2\n",
    "from tqdm.auto import tqdm\n",
    "\n",
    "from utils.reading import read_annotations_from_txt"
   ]
  },
  {
   "cell_type": "code",
   "execution_count": null,
   "metadata": {},
   "outputs": [],
   "source": [
    "repo_path = os.path.abspath('')\n",
    "repo_path = os.path.abspath(os.path.join(os.getcwd(),\"../..\"))\n",
    "print(repo_path)"
   ]
  },
  {
   "cell_type": "code",
   "execution_count": 3,
   "metadata": {},
   "outputs": [],
   "source": [
    "dataset_path = os.path.join(repo_path, 'week5','datasets', 'VeRi')\n",
    "#train_path = os.path.join(dataset_path, 'image_train')\n",
    "train_sequences = ['image_train\\\\', 'image_test\\\\']"
   ]
  },
  {
   "cell_type": "code",
   "execution_count": 19,
   "metadata": {},
   "outputs": [],
   "source": [
    "final_path = os.path.join(dataset_path, 'siamese')"
   ]
  },
  {
   "cell_type": "code",
   "execution_count": 13,
   "metadata": {},
   "outputs": [],
   "source": [
    "n_init = 329"
   ]
  },
  {
   "cell_type": "code",
   "execution_count": 22,
   "metadata": {},
   "outputs": [],
   "source": [
    "def create_folder(path):\n",
    "    if not os.path.exists(path):\n",
    "        os.makedirs(path)"
   ]
  },
  {
   "cell_type": "code",
   "execution_count": 26,
   "metadata": {},
   "outputs": [
    {
     "name": "stdout",
     "output_type": "stream",
     "text": [
      "C:\\Users\\sarac\\Desktop\\CLASE\\M6\\github\\mcv-m6-2019-team3\\week5\\datasets\\VeRi\\image_train\\\n",
      "C:\\Users\\sarac\\Desktop\\CLASE\\M6\\github\\mcv-m6-2019-team3\\week5\\datasets\\VeRi\\image_test\\\n"
     ]
    }
   ],
   "source": [
    "for sequence in train_sequences:\n",
    "    sequence_path = os.path.join(dataset_path, sequence)\n",
    "    print(sequence_path)    \n",
    "    for filename in glob.glob(sequence_path+'*.jpg'): #assuming gif\n",
    "        name =os.path.basename(filename)\n",
    "        name = name.split('.')\n",
    "        name = name[0]\n",
    "        info = name.split('_')\n",
    "        track_id = n_init + int(info[0])\n",
    "        seq = 'veri'\n",
    "        camera = info[1]\n",
    "        frame = info[2] + '_' + info[3]\n",
    "        \n",
    "        img = cv2.imread(filename)\n",
    "        resize_image = cv2.resize(img,(64,64))\n",
    "        \n",
    "        detection_path = os.path.join(final_path, str(track_id))\n",
    "        create_folder(detection_path)\n",
    "        \n",
    "        cv2.imwrite(os.path.join(detection_path, \"{}_{}_{:04d}-{}.jpg\".format(seq, camera, track_id, frame)), resize_image)\n",
    "        \n",
    "    "
   ]
  }
 ],
 "metadata": {
  "kernelspec": {
   "display_name": "Python 3",
   "language": "python",
   "name": "python3"
  },
  "language_info": {
   "codemirror_mode": {
    "name": "ipython",
    "version": 3
   },
   "file_extension": ".py",
   "mimetype": "text/x-python",
   "name": "python",
   "nbconvert_exporter": "python",
   "pygments_lexer": "ipython3",
   "version": "3.5.5"
  }
 },
 "nbformat": 4,
 "nbformat_minor": 2
}
