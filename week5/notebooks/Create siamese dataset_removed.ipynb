{
 "metadata": {
  "kernelspec": {
   "display_name": "Python 3",
   "language": "python",
   "name": "python3"
  },
  "language_info": {
   "codemirror_mode": {
    "name": "ipython",
    "version": 3
   },
   "file_extension": ".py",
   "mimetype": "text/x-python",
   "name": "python",
   "nbconvert_exporter": "python",
   "pygments_lexer": "ipython3",
   "version": "3.7.2"
  },
  "name": ""
 },
 "nbformat": 3,
 "nbformat_minor": 0,
 "worksheets": [
  {
   "cells": [
    {
     "cell_type": "code",
     "collapsed": false,
     "input": [
      "import os\n",
      "import sys\n",
      "import pickle\n",
      "sys.path.append(\"..\") # Adds higher directory to python modules path.\n",
      "\n",
      "import cv2\n",
      "from tqdm.auto import tqdm\n",
      "\n",
      "from utils.reading import read_annotations_from_txt\n"
     ],
     "language": "python",
     "metadata": {},
     "outputs": [],
     "prompt_number": null
    },
    {
     "cell_type": "code",
     "collapsed": false,
     "input": [
      "repo_path = os.path.abspath('')\n",
      "repo_path = os.path.abspath(os.path.join(os.getcwd(),\"../..\"))\n",
      "\n",
      "dataset_path = os.path.join(repo_path, 'datasets', 'aic19-track1-mtmc-train')\n",
      "train_path = os.path.join(dataset_path, 'train')\n",
      "train_sequences = ['S01', 'S04']      # Train with S01 and S04\n",
      "test_path = os.path.join(dataset_path, 'train', 'S03')\n",
      "test_cameras = ['c010', 'c011', 'c012', 'c013', 'c014', 'c015']\n",
      "#test_cameras = ['c010']"
     ],
     "language": "python",
     "metadata": {},
     "outputs": [],
     "prompt_number": null
    },
    {
     "cell_type": "code",
     "collapsed": false,
     "input": [
      "def create_folder(path):\n",
      "    if not os.path.exists(path):\n",
      "        os.makedirs(path)"
     ],
     "language": "python",
     "metadata": {},
     "outputs": [],
     "prompt_number": null
    },
    {
     "cell_type": "code",
     "collapsed": false,
     "input": [
      "for sequence in train_sequences:\n",
      "    print(sequence)\n",
      "    sequence_path = os.path.join(train_path, sequence)\n",
      "    cameras = [f for f in os.listdir(sequence_path) if not f.startswith('.')]\n",
      "\n",
      "    for camera in cameras:\n",
      "        print(camera)\n",
      "        # Load video\n",
      "        video_path = os.path.join(sequence_path, camera, 'vdo.avi')\n",
      "\n",
      "        # Read groundtruth\n",
      "        gt_path = os.path.join(sequence_path, camera, 'gt', 'gt.txt')\n",
      "        groundtruth_list = read_annotations_from_txt(gt_path)\n",
      "\n",
      "        # Load frames\n",
      "        capture = cv2.VideoCapture(video_path)\n",
      "        pbar = tqdm(total=int(capture.get(cv2.CAP_PROP_FRAME_COUNT)))\n",
      "        while capture.isOpened():\n",
      "            valid, frame = capture.read()\n",
      "            if not valid:\n",
      "                break\n",
      "\n",
      "            # Load bboxes on this frame\n",
      "            gt_on_frame = [x for x in groundtruth_list if x.frame == int(capture.get(cv2.CAP_PROP_POS_FRAMES))-1]\n",
      "\n",
      "            for detection in gt_on_frame:            \n",
      "                # Check and create track_id folder\n",
      "                detection_path = os.path.join(repo_path, 'datasets', 'siamese_cars', str(detection.track_id))\n",
      "                create_folder(detection_path)\n",
      "\n",
      "                # Create crop\n",
      "                crop_image = frame[detection.bbox[1]:detection.bbox[3], detection.bbox[0]:detection.bbox[2]]\n",
      "                \n",
      "                # TODO: resize\n",
      "                resize_image = cv2.resize(crop_image,(64,64))\n",
      "                \n",
      "                # Save crop in folder\n",
      "                cv2.imwrite(os.path.join(detection_path, \"{}_{}_{:04d}-{:04d}.jpg\".format(sequence, camera, detection.track_id, detection.frame)), resize_image)                \n",
      "                #cv2.imshow(\"cropped\", crop_img)\n",
      "                #cv2.waitKey(0)\n",
      "\n",
      "            pbar.update(1)\n",
      "        pbar.close()\n"
     ],
     "language": "python",
     "metadata": {
      "scrolled": true
     },
     "outputs": [],
     "prompt_number": 61
    },
    {
     "cell_type": "heading",
     "level": 1,
     "metadata": {},
     "source": [
      "Estudiar dataset"
     ]
    },
    {
     "cell_type": "code",
     "collapsed": false,
     "input": [
      "from glob import glob\n",
      "import pandas as pd\n",
      "import cv2\n",
      "from PIL import Image\n"
     ],
     "language": "python",
     "metadata": {},
     "outputs": [],
     "prompt_number": 14
    },
    {
     "cell_type": "code",
     "collapsed": false,
     "input": [
      "dataset_path = os.path.join(repo_path, 'datasets', 'siamese_cars')\n",
      "\n",
      "clase_list = []\n",
      "length_list = []\n",
      "images_list = []\n",
      "height_list = []\n",
      "width_list = []\n",
      "\n",
      "for clase in [f for f in os.listdir(dataset_path) if not f.startswith('.')]:\n",
      "    print(clase)\n",
      "    clase_list.append(clase)\n",
      "    \n",
      "    images_list = os.listdir(os.path.join(dataset_path, clase))\n",
      "    length_list.append(len(images_list))\n"
     ],
     "language": "python",
     "metadata": {
      "scrolled": true
     },
     "outputs": [],
     "prompt_number": 15
    },
    {
     "cell_type": "code",
     "collapsed": false,
     "input": [
      "images_list"
     ],
     "language": "python",
     "metadata": {},
     "outputs": [],
     "prompt_number": 16
    },
    {
     "cell_type": "code",
     "collapsed": false,
     "input": [
      "d = {'name': images_list, 'height': height_list, 'width': width_list}\n",
      "df = pd.DataFrame(data=d)\n",
      "df"
     ],
     "language": "python",
     "metadata": {
      "scrolled": true
     },
     "outputs": [],
     "prompt_number": 17
    },
    {
     "cell_type": "code",
     "collapsed": false,
     "input": [
      "d = {'Clase': clase_list, 'Samples': length_list}\n",
      "df = pd.DataFrame(data=d)\n",
      "df"
     ],
     "language": "python",
     "metadata": {
      "scrolled": true
     },
     "outputs": [],
     "prompt_number": 18
    },
    {
     "cell_type": "heading",
     "level": 1,
     "metadata": {},
     "source": [
      "Calibration"
     ]
    },
    {
     "cell_type": "code",
     "collapsed": false,
     "input": [
      "import cv2\n",
      "import matplotlib.pyplot as plt\n",
      "import numpy as np\n",
      "\n",
      "%matplotlib inline"
     ],
     "language": "python",
     "metadata": {},
     "outputs": [],
     "prompt_number": 19
    },
    {
     "cell_type": "code",
     "collapsed": false,
     "input": [
      "def get_undistort_matrices(calibration_path):\n",
      "    # Load calibration \n",
      "    f = open(calibration_path, \"r\")\n",
      "\n",
      "    # Not necessary\n",
      "    f.readline()\n",
      "\n",
      "    # Camera matrix\n",
      "    line = f.readline()\n",
      "    line_split = line.split()\n",
      "    camera_matrix = np.array([[line_split[3], line_split[4], line_split[5].split(\";\")[0]],[line_split[5].split(\";\")[1], line_split[6], line_split[7].split(\";\")[0]],[line_split[7].split(\";\")[1], line_split[8], line_split[9]]], dtype=np.float64)\n",
      "    #print(camera_matrix)\n",
      "\n",
      "    # Distort coefficients\n",
      "    line = f.readline()\n",
      "    line_split = line.split()\n",
      "    distort_coef = np.array([line_split[2], line_split[3], line_split[4], line_split[5]], dtype=np.float64)\n",
      "    #print(distort_coef)\n",
      "\n",
      "    f.close()\n",
      "    \n",
      "    return camera_matrix, distort_coef\n",
      "    \n",
      "calibration_video = os.path.join(train_path, 'S01', 'c005', 'vdo.avi')\n",
      "calibration_path = \"calibration.txt\"\n",
      "\n",
      "camera_matrix, distort_coef = get_undistort_matrices(calibration_path)\n",
      "\n",
      "# Load one image\n",
      "capture = cv2.VideoCapture(calibration_video)\n",
      "while capture.isOpened():\n",
      "    valid, frame = capture.read()\n",
      "    if not valid:\n",
      "        break\n",
      "    break    \n",
      "    \n",
      "plt.imshow(frame)\n",
      "plt.show()\n",
      "\n",
      "dst = cv2.undistort(frame, camera_matrix, distort_coef, None, None)\n",
      "\n",
      "plt.imshow(dst)\n",
      "plt.show()\n"
     ],
     "language": "python",
     "metadata": {},
     "outputs": [],
     "prompt_number": 72
    },
    {
     "cell_type": "code",
     "collapsed": false,
     "input": [
      "calibration_video = os.path.join(train_path, 'S01', 'c005', 'vdo.avi')\n",
      "calibration_path = \"calibration.txt\"\n",
      "\n",
      "# Load calibration \n",
      "f = open(calibration_path, \"r\")\n",
      "\n",
      "# Not necessary\n",
      "f.readline()\n",
      "\n",
      "# Camera matrix\n",
      "line = f.readline()\n",
      "line_split = line.split()\n",
      "camera_matrix = np.array([[line_split[3], line_split[4], line_split[5].split(\";\")[0]],[line_split[5].split(\";\")[1], line_split[6], line_split[7].split(\";\")[0]],[line_split[7].split(\";\")[1], line_split[8], line_split[9]]], dtype=np.float64)\n",
      "camera_matrix_2 = np.array([[float(line_split[3])/2, line_split[4], line_split[5].split(\";\")[0]],[line_split[5].split(\";\")[1], float(line_split[6])/2, line_split[7].split(\";\")[0]],[line_split[7].split(\";\")[1], line_split[8], line_split[9]]], dtype=np.float64)\n",
      "print(camera_matrix)\n",
      "\n",
      "# Distort coefficients\n",
      "line = f.readline()\n",
      "line_split = line.split()\n",
      "distort_coef = np.array([line_split[2], line_split[3], line_split[4], line_split[5]], dtype=np.float64)\n",
      "print(distort_coef)\n",
      "\n",
      "f.close()"
     ],
     "language": "python",
     "metadata": {},
     "outputs": [],
     "prompt_number": 149
    },
    {
     "cell_type": "code",
     "collapsed": false,
     "input": [
      "# Load one image\n",
      "capture = cv2.VideoCapture(calibration_video)\n",
      "while capture.isOpened():\n",
      "    valid, frame = capture.read()\n",
      "    if not valid:\n",
      "        break\n",
      "    break\n",
      "    "
     ],
     "language": "python",
     "metadata": {},
     "outputs": [],
     "prompt_number": 150
    },
    {
     "cell_type": "code",
     "collapsed": false,
     "input": [
      "import matplotlib.pyplot as plt\n",
      "import matplotlib.patches as mpatches\n",
      "import cv2\n",
      "\n",
      "fig, ax = plt.subplots()\n",
      "ax.imshow(cv2.cvtColor(frame, cv2.COLOR_BGR2RGB))\n",
      "\n",
      "minc = 295.031\n",
      "minr = 252.479 \n",
      "maxc = minc + 111.785\n",
      "maxr = minr + 68.932\n",
      "\n",
      "rect = mpatches.Rectangle((minc, minr), maxc - minc + 1, maxr - minr + 1, fill=False, edgecolor='red', linewidth=2)\n",
      "ax.add_patch(rect)"
     ],
     "language": "python",
     "metadata": {},
     "outputs": [],
     "prompt_number": 167
    },
    {
     "cell_type": "code",
     "collapsed": false,
     "input": [
      "crop_image = frame[int(minr):int(maxr),int(minc):int(maxc)]\n",
      "plt.imshow(crop_image)"
     ],
     "language": "python",
     "metadata": {},
     "outputs": [],
     "prompt_number": 168
    },
    {
     "cell_type": "code",
     "collapsed": false,
     "input": [
      "dst = cv2.undistort(frame, camera_matrix, distort_coef, None, None)"
     ],
     "language": "python",
     "metadata": {},
     "outputs": [],
     "prompt_number": 204
    },
    {
     "cell_type": "code",
     "collapsed": false,
     "input": [
      "fig, ax = plt.subplots()\n",
      "ax.imshow(cv2.cvtColor(dst, cv2.COLOR_BGR2RGB))\n",
      "\n",
      "rect = mpatches.Rectangle((minc, minr), maxc - minc + 1, maxr - minr + 1, fill=False, edgecolor='red', linewidth=2)\n",
      "ax.add_patch(rect)"
     ],
     "language": "python",
     "metadata": {},
     "outputs": [],
     "prompt_number": 205
    },
    {
     "cell_type": "code",
     "collapsed": false,
     "input": [
      "crop_image = dst[int(minr):int(maxr),int(minc):int(maxc)]\n",
      "plt.imshow(crop_image)"
     ],
     "language": "python",
     "metadata": {},
     "outputs": [],
     "prompt_number": 199
    },
    {
     "cell_type": "code",
     "collapsed": false,
     "input": [
      "test = np.array([[[minc, minr], [maxc, maxr]]], dtype=np.float32)\n",
      "undistort_pts = cv2.undistortPoints(test, camera_matrix, distort_coef, P=camera_matrix)\n",
      "\n",
      "minc = undistort_pts[0][0][0]\n",
      "minr = undistort_pts[0][0][1]\n",
      "maxc = undistort_pts[0][1][0]\n",
      "maxr = undistort_pts[0][1][1]\n",
      "\n",
      "fig, ax = plt.subplots()\n",
      "ax.imshow(cv2.cvtColor(dst, cv2.COLOR_BGR2RGB))\n",
      "\n",
      "rect = mpatches.Rectangle((minc, minr), maxc - minc + 1, maxr - minr + 1, fill=False, edgecolor='red', linewidth=2)\n",
      "ax.add_patch(rect)\n"
     ],
     "language": "python",
     "metadata": {},
     "outputs": [],
     "prompt_number": 200
    },
    {
     "cell_type": "code",
     "collapsed": false,
     "input": [
      "crop_image = dst[int(minr):int(maxr),int(minc):int(maxc)]\n",
      "plt.imshow(crop_image)"
     ],
     "language": "python",
     "metadata": {},
     "outputs": [],
     "prompt_number": 201
    },
    {
     "cell_type": "markdown",
     "metadata": {},
     "source": [
      "# Print detections S01\n",
      "\n",
      "{id_final={camera1=[id1_cam1, id2_cam1, id3_cam1...], camera2 = [id1_cam2, id2_cam2, ...]}}"
     ]
    },
    {
     "cell_type": "code",
     "collapsed": false,
     "input": [
      "colors = np.random.rand(500, 3)  # used only for display\n"
     ],
     "language": "python",
     "metadata": {},
     "outputs": [],
     "prompt_number": 304
    },
    {
     "cell_type": "code",
     "collapsed": false,
     "input": [
      "with open(repo_path + '/week5/multitracksresults.pkl', 'rb') as p:\n",
      "    multitrack = pickle.load(p)\n",
      "    \n",
      "print(multitrack)"
     ],
     "language": "python",
     "metadata": {},
     "outputs": [],
     "prompt_number": 305
    },
    {
     "cell_type": "code",
     "collapsed": false,
     "input": [
      "with open(repo_path + '/week5/tracksS010.pkl', 'rb') as p:\n",
      "    tracks = pickle.load(p)\n",
      "\n",
      "print(tracks)"
     ],
     "language": "python",
     "metadata": {},
     "outputs": [],
     "prompt_number": 306
    },
    {
     "cell_type": "code",
     "collapsed": false,
     "input": [
      "for id in multitrack.keys():\n",
      "    print(id)\n",
      "    id_cams = multitrack[id][0]\n",
      "    print(id_cams)\n",
      "    if len(id_cams) > 1:\n",
      "        continue\n",
      "    for id_cams in id_cams:\n",
      "        print(id_cam)\n",
      "        track = [x for x in tracks if x.id == id_cam]\n",
      "        #print(track)\n",
      "        detection_in_frame = [x for x in track[0].detections if x.frame == n_frame]\n",
      "        if detection_in_frame:\n",
      "            print(track)\n",
      "            print(detection_in_frame)\n",
      "\n"
     ],
     "language": "python",
     "metadata": {},
     "outputs": [],
     "prompt_number": 331
    },
    {
     "cell_type": "code",
     "collapsed": false,
     "input": [
      "from utils.plotting import visualize_tracks, visualize_tracks_opencv\n",
      "\n",
      "train_sequences = ['S01']      # Train with S01 and S04\n",
      "\n",
      "for sequence in train_sequences:\n",
      "    print(sequence)\n",
      "    sequence_path = os.path.join(train_path, sequence)\n",
      "    cameras = [f for f in os.listdir(sequence_path) if not f.startswith('.')]\n",
      "    cameras.sort()\n",
      "    \n",
      "    for n, camera in enumerate(cameras):\n",
      "        print(camera)\n",
      "        \n",
      "        # Load video\n",
      "        video_path = os.path.join(sequence_path, camera, 'vdo.avi')\n",
      "        \n",
      "        # Load tracks\n",
      "        with open(repo_path + '/week5/tracksS01'+ str(n) +'.pkl', 'rb') as p:\n",
      "            tracks = pickle.load(p)\n",
      "        \n",
      "        # Load detections\n",
      "        detections_list = []\n",
      "        for track in tracks:\n",
      "            for detection in track.detections:\n",
      "                detections_list.append(detection)\n",
      "                    \n",
      "        capture = cv2.VideoCapture(video_path)\n",
      "        n_frame = 0\n",
      "        pbar = tqdm(total=2140)\n",
      "\n",
      "        while capture.isOpened():\n",
      "            valid, image = capture.read()\n",
      "            if not valid:\n",
      "                break\n",
      "              \n",
      "            for id in multitrack.keys():\n",
      "                #print(id)\n",
      "                id_cams = multitrack[id][0]\n",
      "                #print(id_cams)\n",
      "                if len(id_cams) > 1:\n",
      "                    continue\n",
      "                for id_cam in id_cams:\n",
      "                    track = [x for x in tracks if x.id == id_cam]\n",
      "                    print(track[0])\n",
      "                    detection_in_frame = [x for x in track[0].detections if x.frame == n_frame]\n",
      "                    #print(detection_in_frame)\n",
      "                    \n",
      "                    if detection_in_frame:\n",
      "                        ###### Save frames\n",
      "                        print(detection_in_frame)\n",
      "                        minc, minr, maxc, maxr = detection_in_frame[0].bbox\n",
      "                        cv2.rectangle(image, (minc, minr), (maxc, maxr), colors[id]*255, 20)\n",
      "                        cv2.putText(image, str(id), (minc, minr), cv2.FONT_HERSHEY_SIMPLEX, 4, colors[id]*255, 10, cv2.LINE_AA)\n",
      "\n",
      "                        print(id)\n",
      "                        print(colors[id]*255)\n",
      "\n",
      "            \n",
      "            image = cv2.resize(image, (0, 0), fx=0.25, fy=0.25)\n",
      "            cv2.imwrite('out/frame_{}_{:04d}.png'.format(camera,n_frame), image, [int(cv2.IMWRITE_PNG_COMPRESSION), 4, int(cv2.IMWRITE_JPEG_QUALITY), 70])\n",
      "\n",
      "            n_frame += 1\n"
     ],
     "language": "python",
     "metadata": {},
     "outputs": [],
     "prompt_number": null
    },
    {
     "cell_type": "code",
     "collapsed": false,
     "input": [],
     "language": "python",
     "metadata": {},
     "outputs": [],
     "prompt_number": null
    },
    {
     "cell_type": "code",
     "collapsed": false,
     "input": [],
     "language": "python",
     "metadata": {},
     "outputs": [],
     "prompt_number": null
    },
    {
     "cell_type": "code",
     "collapsed": false,
     "input": [],
     "language": "python",
     "metadata": {},
     "outputs": [],
     "prompt_number": null
    },
    {
     "cell_type": "code",
     "collapsed": false,
     "input": [],
     "language": "python",
     "metadata": {},
     "outputs": [],
     "prompt_number": null
    }
   ],
   "metadata": {}
  }
 ]
}